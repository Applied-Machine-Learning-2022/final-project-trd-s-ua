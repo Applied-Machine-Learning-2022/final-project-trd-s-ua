{
  "nbformat": 4,
  "nbformat_minor": 0,
  "metadata": {
    "colab": {
      "name": "gesture_detection.ipynb",
      "provenance": [],
      "toc_visible": true,
      "authorship_tag": "ABX9TyOMuaoh4EepAA5Lc2/iBLkK",
      "include_colab_link": true
    },
    "kernelspec": {
      "name": "python3",
      "display_name": "Python 3"
    },
    "language_info": {
      "name": "python"
    }
  },
  "cells": [
    {
      "cell_type": "markdown",
      "metadata": {
        "id": "view-in-github",
        "colab_type": "text"
      },
      "source": [
        "<a href=\"https://colab.research.google.com/github/Applied-Machine-Learning-2022/final-project-trd-s-ua/blob/rp-base-project/gesture_detection.ipynb\" target=\"_parent\"><img src=\"https://colab.research.google.com/assets/colab-badge.svg\" alt=\"Open In Colab\"/></a>"
      ]
    },
    {
      "cell_type": "markdown",
      "source": [
        "# Our Process"
      ],
      "metadata": {
        "id": "3AWWtjveYVMi"
      }
    },
    {
      "cell_type": "markdown",
      "source": [
        "- View past colabs and see which are relevant to the Capstone\n",
        "-  Find an online repository of hand gestures to utilize and save us the time of gathering data\n",
        "- Take a video and process it, showing that the gestures are recognized\n",
        "\n",
        "\n",
        "**EVERYTHING BEYOND THIS POINT IS -*IF WE CAN GET TO IT*-**\n",
        "\n",
        "- Take live video feed using opencv's VideoCapture\n",
        "- Execute different local processes based off the live video feed"
      ],
      "metadata": {
        "id": "BBD7MqP1Ydcm"
      }
    },
    {
      "cell_type": "code",
      "execution_count": null,
      "metadata": {
        "id": "fKkrxaEIYIsM"
      },
      "outputs": [],
      "source": [
        ""
      ]
    }
  ]
}